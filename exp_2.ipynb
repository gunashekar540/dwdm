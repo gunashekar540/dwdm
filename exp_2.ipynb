{
  "nbformat": 4,
  "nbformat_minor": 0,
  "metadata": {
    "colab": {
      "provenance": [],
      "authorship_tag": "ABX9TyPc9fcT2xzTLCIZF201aMQI",
      "include_colab_link": true
    },
    "kernelspec": {
      "name": "python3",
      "display_name": "Python 3"
    },
    "language_info": {
      "name": "python"
    }
  },
  "cells": [
    {
      "cell_type": "markdown",
      "metadata": {
        "id": "view-in-github",
        "colab_type": "text"
      },
      "source": [
        "<a href=\"https://colab.research.google.com/github/gunashekar540/dwdm/blob/main/exp_2.ipynb\" target=\"_parent\"><img src=\"https://colab.research.google.com/assets/colab-badge.svg\" alt=\"Open In Colab\"/></a>"
      ]
    },
    {
      "cell_type": "code",
      "execution_count": 14,
      "metadata": {
        "id": "LAXtnSPhD9VX"
      },
      "outputs": [],
      "source": [
        "import pandas as pd\n",
        "import numpy as np\n",
        "data=pd.read_csv('/content/students_placement_data.csv')\n",
        "data['SSC Percentage'].fillna(data['SSC Percentage'].mean(),inplace=True)\n",
        "data['SSC-GRADE']=pd.cut(data['SSC Percentage'],bins=[40,60,70,80,90,np.inf],labels=['F','A','B','C','D'])\n",
        "from sklearn.preprocessing import StandardScaler\n",
        "scaler=StandardScaler()\n",
        "inter_Diploma_percentage=data['inter_Diploma_percentage'].values.reshape(-1,1)\n",
        "data['inter_Diploma_percentage']=scaler.fit_transform(inter_Diploma_percentage)\n",
        "from sklearn.model_selection import train_test_split\n",
        "x_train,y_train,x_test,y_test=train_test_split(data.iloc[:,3:8],data.iloc[:,8],test_size=0.2,random_state=42)"
      ]
    }
  ]
}