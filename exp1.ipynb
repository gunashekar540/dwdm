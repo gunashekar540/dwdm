{
  "cells": [
    {
      "cell_type": "markdown",
      "metadata": {
        "id": "view-in-github",
        "colab_type": "text"
      },
      "source": [
        "<a href=\"https://colab.research.google.com/github/gunashekar540/dwdm/blob/main/exp1.ipynb\" target=\"_parent\"><img src=\"https://colab.research.google.com/assets/colab-badge.svg\" alt=\"Open In Colab\"/></a>"
      ]
    },
    {
      "cell_type": "code",
      "source": [
        "import pandas as pd\n",
        "data=pd.read_csv('/content/students_placement_data.csv')\n",
        "dependent=data['placement status']\n",
        "print(dependent)\n",
        "independent=data.drop('placement status',axis=1)\n",
        "print(independent)\n",
        "missing_values=data.isnull().sum()\n",
        "print(missing_values)"
      ],
      "metadata": {
        "colab": {
          "base_uri": "https://localhost:8080/"
        },
        "id": "-bX0VxfDAACM",
        "outputId": "a0d7922d-8873-4c4f-e67d-7cf77b01f13e"
      },
      "execution_count": null,
      "outputs": [
        {
          "output_type": "stream",
          "name": "stdout",
          "text": [
            "0      Not placed\n",
            "1          Placed\n",
            "2      Not placed\n",
            "3      Not placed\n",
            "4      Not placed\n",
            "          ...    \n",
            "112    Not placed\n",
            "113    Not placed\n",
            "114    Not placed\n",
            "115    Not placed\n",
            "116    Not placed\n",
            "Name: placement status, Length: 117, dtype: object\n",
            "     Roll No Gender Section  SSC Percentage  inter_Diploma_percentage  \\\n",
            "0          1      M       A            87.3                     65.30   \n",
            "1          2      F       A            89.0                     92.40   \n",
            "2          3      F       A            67.0                     68.00   \n",
            "3          4      M       A            71.0                     70.40   \n",
            "4          5      M       A             NaN                     65.50   \n",
            "..       ...    ...     ...             ...                       ...   \n",
            "112      113      M       B            81.1                     78.60   \n",
            "113      114      M       B            81.3                     85.12   \n",
            "114      115      M       B            83.5                     89.90   \n",
            "115      116      M       B            85.5                     90.63   \n",
            "116      117      M       B            80.0                     83.33   \n",
            "\n",
            "     B.Tech_percentage  Backlogs registered_for_ Placement_Training  \n",
            "0                40.00        18                                 NO  \n",
            "1                71.45         0                                yes  \n",
            "2                45.26        13                                yes  \n",
            "3                36.47        17                                yes  \n",
            "4                42.52        17                                yes  \n",
            "..                 ...       ...                                ...  \n",
            "112              35.84        16                                 NO  \n",
            "113              68.50         0                                 NO  \n",
            "114              76.30         0                                 NO  \n",
            "115              74.50         0                                 NO  \n",
            "116              65.53         0                                 NO  \n",
            "\n",
            "[117 rows x 8 columns]\n",
            "Roll No                               0\n",
            "Gender                                0\n",
            "Section                               0\n",
            "SSC Percentage                        1\n",
            "inter_Diploma_percentage              0\n",
            "B.Tech_percentage                     0\n",
            "Backlogs                              0\n",
            "registered_for_ Placement_Training    1\n",
            "placement status                      0\n",
            "dtype: int64\n"
          ]
        }
      ]
    }
  ],
  "metadata": {
    "colab": {
      "provenance": [],
      "authorship_tag": "ABX9TyN1VwfHFHtFKhfuos8e3zrY",
      "include_colab_link": true
    },
    "kernelspec": {
      "display_name": "Python 3",
      "name": "python3"
    },
    "language_info": {
      "name": "python"
    }
  },
  "nbformat": 4,
  "nbformat_minor": 0
}