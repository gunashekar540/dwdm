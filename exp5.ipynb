{
  "nbformat": 4,
  "nbformat_minor": 0,
  "metadata": {
    "colab": {
      "provenance": [],
      "authorship_tag": "ABX9TyOrn9lnZ39CupBgYMl6YbaW",
      "include_colab_link": true
    },
    "kernelspec": {
      "name": "python3",
      "display_name": "Python 3"
    },
    "language_info": {
      "name": "python"
    }
  },
  "cells": [
    {
      "cell_type": "markdown",
      "metadata": {
        "id": "view-in-github",
        "colab_type": "text"
      },
      "source": [
        "<a href=\"https://colab.research.google.com/github/gunashekar540/dwdm/blob/main/exp5.ipynb\" target=\"_parent\"><img src=\"https://colab.research.google.com/assets/colab-badge.svg\" alt=\"Open In Colab\"/></a>"
      ]
    },
    {
      "cell_type": "code",
      "execution_count": 7,
      "metadata": {
        "colab": {
          "base_uri": "https://localhost:8080/"
        },
        "id": "NlWuRDN8Ypzy",
        "outputId": "5a514c1f-cb92-49af-e4b4-ce49616d372f"
      },
      "outputs": [
        {
          "output_type": "stream",
          "name": "stdout",
          "text": [
            "Accuracy Score: 0.8333333333333334\n"
          ]
        }
      ],
      "source": [
        "import pandas as pd\n",
        "import numpy as np\n",
        "from sklearn.model_selection import train_test_split\n",
        "from sklearn.tree import DecisionTreeClassifier\n",
        "from sklearn.metrics import accuracy_score\n",
        "data = pd.read_csv('/content/students_placement_data.csv')\n",
        "data.head()\n",
        "x_train, x_test, y_train, y_test = train_test_split(data.iloc[:,[4,6]],data.iloc[:,8],test_size=0.2, random_state=42)\n",
        "tr = DecisionTreeClassifier(random_state=42)\n",
        "tr.fit(x_train, y_train)\n",
        "y_pred = tr.predict(x_test)\n",
        "ac = accuracy_score(y_test, y_pred)\n",
        "print(\"Accuracy Score:\", ac)"
      ]
    }
  ]
}