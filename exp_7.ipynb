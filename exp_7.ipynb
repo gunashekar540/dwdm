{
  "nbformat": 4,
  "nbformat_minor": 0,
  "metadata": {
    "colab": {
      "provenance": [],
      "authorship_tag": "ABX9TyO24BIZb5qtUZmbALTmfuY1",
      "include_colab_link": true
    },
    "kernelspec": {
      "name": "python3",
      "display_name": "Python 3"
    },
    "language_info": {
      "name": "python"
    }
  },
  "cells": [
    {
      "cell_type": "markdown",
      "metadata": {
        "id": "view-in-github",
        "colab_type": "text"
      },
      "source": [
        "<a href=\"https://colab.research.google.com/github/gunashekar540/dwdm/blob/main/exp_7.ipynb\" target=\"_parent\"><img src=\"https://colab.research.google.com/assets/colab-badge.svg\" alt=\"Open In Colab\"/></a>"
      ]
    },
    {
      "cell_type": "code",
      "execution_count": 3,
      "metadata": {
        "colab": {
          "base_uri": "https://localhost:8080/"
        },
        "id": "hfJj6mE3dPd5",
        "outputId": "35c9bc0c-ff32-4e52-afef-61ec8f17bd32"
      },
      "outputs": [
        {
          "output_type": "stream",
          "name": "stdout",
          "text": [
            "   support                                   itemsets\n",
            "0      0.1              (Products_BREAD,COFFEE,SUGER)\n",
            "1      0.1             (Products_BREAD,TEA,BOURNVITA)\n",
            "2      0.1  (Products_COFFEE,COCK,BISCUIT,CORNFLAKES)\n",
            "Empty DataFrame\n",
            "Columns: [antecedents, consequents, antecedent support, consequent support, support, confidence, lift, leverage, conviction, zhangs_metric]\n",
            "Index: []\n"
          ]
        },
        {
          "output_type": "stream",
          "name": "stderr",
          "text": [
            "/usr/local/lib/python3.10/dist-packages/ipykernel/ipkernel.py:283: DeprecationWarning: `should_run_async` will not call `transform_cell` automatically in the future. Please pass the result to `transformed_cell` argument and any exception that happen during thetransform in `preprocessing_exc_tuple` in IPython 7.17 and above.\n",
            "  and should_run_async(code)\n"
          ]
        }
      ],
      "source": [
        "import pandas as pd\n",
        "from mlxtend.frequent_patterns import apriori\n",
        "from mlxtend.frequent_patterns import association_rules\n",
        "data=pd.read_csv('/content/GroceryStoreDataSet.csv')\n",
        "onehot_data=pd.get_dummies(data)\n",
        "frequent_itemsets=apriori(onehot_data,min_support=0.1,use_colnames=True)\n",
        "association_rules=association_rules(frequent_itemsets,metric=\"lift\",min_threshold=1)\n",
        "print(frequent_itemsets)\n",
        "print(association_rules)"
      ]
    }
  ]
}